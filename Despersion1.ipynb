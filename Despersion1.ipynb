{
 "cells": [
  {
   "cell_type": "code",
   "execution_count": 12,
   "id": "cf50d5a3",
   "metadata": {},
   "outputs": [],
   "source": [
    "import statistics\n",
    "import seaborn as sns\n",
    "import pandas as pd"
   ]
  },
  {
   "cell_type": "code",
   "execution_count": 2,
   "id": "bb3fc1c8",
   "metadata": {},
   "outputs": [],
   "source": [
    "data1=[45,42,42,41,40]\n",
    "data2=[54,48,42,33,33]"
   ]
  },
  {
   "cell_type": "code",
   "execution_count": 3,
   "id": "def67ddf",
   "metadata": {},
   "outputs": [
    {
     "data": {
      "text/plain": [
       "42"
      ]
     },
     "execution_count": 3,
     "metadata": {},
     "output_type": "execute_result"
    }
   ],
   "source": [
    "statistics.mean(data1)"
   ]
  },
  {
   "cell_type": "code",
   "execution_count": 4,
   "id": "30afce3a",
   "metadata": {
    "scrolled": true
   },
   "outputs": [
    {
     "data": {
      "text/plain": [
       "42"
      ]
     },
     "execution_count": 4,
     "metadata": {},
     "output_type": "execute_result"
    }
   ],
   "source": [
    "statistics.mean(data2)"
   ]
  },
  {
   "cell_type": "markdown",
   "id": "678b5ccd",
   "metadata": {},
   "source": [
    "### Range"
   ]
  },
  {
   "cell_type": "code",
   "execution_count": 5,
   "id": "3a4141b1",
   "metadata": {},
   "outputs": [
    {
     "data": {
      "text/plain": [
       "5"
      ]
     },
     "execution_count": 5,
     "metadata": {},
     "output_type": "execute_result"
    }
   ],
   "source": [
    "max(data1)-min(data1)"
   ]
  },
  {
   "cell_type": "code",
   "execution_count": 6,
   "id": "df16622c",
   "metadata": {
    "scrolled": true
   },
   "outputs": [
    {
     "data": {
      "text/plain": [
       "21"
      ]
     },
     "execution_count": 6,
     "metadata": {},
     "output_type": "execute_result"
    }
   ],
   "source": [
    "max(data2)-min(data2)"
   ]
  },
  {
   "cell_type": "markdown",
   "id": "e8cddbb3",
   "metadata": {},
   "source": [
    "### variance"
   ]
  },
  {
   "cell_type": "code",
   "execution_count": 7,
   "id": "8e3f7335",
   "metadata": {
    "scrolled": true
   },
   "outputs": [
    {
     "data": {
      "text/plain": [
       "3.5"
      ]
     },
     "execution_count": 7,
     "metadata": {},
     "output_type": "execute_result"
    }
   ],
   "source": [
    "statistics.variance(data1)"
   ]
  },
  {
   "cell_type": "code",
   "execution_count": 8,
   "id": "b98df056",
   "metadata": {},
   "outputs": [
    {
     "data": {
      "text/plain": [
       "85.5"
      ]
     },
     "execution_count": 8,
     "metadata": {},
     "output_type": "execute_result"
    }
   ],
   "source": [
    "statistics.variance(data2)"
   ]
  },
  {
   "cell_type": "markdown",
   "id": "c6ce7555",
   "metadata": {},
   "source": [
    "### Standar deviation"
   ]
  },
  {
   "cell_type": "code",
   "execution_count": 9,
   "id": "f48b3c05",
   "metadata": {},
   "outputs": [
    {
     "data": {
      "text/plain": [
       "1.6733200530681511"
      ]
     },
     "execution_count": 9,
     "metadata": {},
     "output_type": "execute_result"
    }
   ],
   "source": [
    "statistics.pstdev(data1)"
   ]
  },
  {
   "cell_type": "code",
   "execution_count": 10,
   "id": "492eb20f",
   "metadata": {
    "scrolled": true
   },
   "outputs": [
    {
     "data": {
      "text/plain": [
       "8.270429251254134"
      ]
     },
     "execution_count": 10,
     "metadata": {},
     "output_type": "execute_result"
    }
   ],
   "source": [
    "statistics.pstdev(data2)"
   ]
  },
  {
   "cell_type": "code",
   "execution_count": 13,
   "id": "33e5f9e4",
   "metadata": {},
   "outputs": [],
   "source": [
    " df=sns.load_dataset('mpg')"
   ]
  },
  {
   "cell_type": "code",
   "execution_count": 14,
   "id": "3b5f45b9",
   "metadata": {
    "scrolled": true
   },
   "outputs": [
    {
     "data": {
      "text/html": [
       "<div>\n",
       "<style scoped>\n",
       "    .dataframe tbody tr th:only-of-type {\n",
       "        vertical-align: middle;\n",
       "    }\n",
       "\n",
       "    .dataframe tbody tr th {\n",
       "        vertical-align: top;\n",
       "    }\n",
       "\n",
       "    .dataframe thead th {\n",
       "        text-align: right;\n",
       "    }\n",
       "</style>\n",
       "<table border=\"1\" class=\"dataframe\">\n",
       "  <thead>\n",
       "    <tr style=\"text-align: right;\">\n",
       "      <th></th>\n",
       "      <th>mpg</th>\n",
       "      <th>cylinders</th>\n",
       "      <th>displacement</th>\n",
       "      <th>horsepower</th>\n",
       "      <th>weight</th>\n",
       "      <th>acceleration</th>\n",
       "      <th>model_year</th>\n",
       "      <th>origin</th>\n",
       "      <th>name</th>\n",
       "    </tr>\n",
       "  </thead>\n",
       "  <tbody>\n",
       "    <tr>\n",
       "      <th>0</th>\n",
       "      <td>18.0</td>\n",
       "      <td>8</td>\n",
       "      <td>307.0</td>\n",
       "      <td>130.0</td>\n",
       "      <td>3504</td>\n",
       "      <td>12.0</td>\n",
       "      <td>70</td>\n",
       "      <td>usa</td>\n",
       "      <td>chevrolet chevelle malibu</td>\n",
       "    </tr>\n",
       "    <tr>\n",
       "      <th>1</th>\n",
       "      <td>15.0</td>\n",
       "      <td>8</td>\n",
       "      <td>350.0</td>\n",
       "      <td>165.0</td>\n",
       "      <td>3693</td>\n",
       "      <td>11.5</td>\n",
       "      <td>70</td>\n",
       "      <td>usa</td>\n",
       "      <td>buick skylark 320</td>\n",
       "    </tr>\n",
       "    <tr>\n",
       "      <th>2</th>\n",
       "      <td>18.0</td>\n",
       "      <td>8</td>\n",
       "      <td>318.0</td>\n",
       "      <td>150.0</td>\n",
       "      <td>3436</td>\n",
       "      <td>11.0</td>\n",
       "      <td>70</td>\n",
       "      <td>usa</td>\n",
       "      <td>plymouth satellite</td>\n",
       "    </tr>\n",
       "    <tr>\n",
       "      <th>3</th>\n",
       "      <td>16.0</td>\n",
       "      <td>8</td>\n",
       "      <td>304.0</td>\n",
       "      <td>150.0</td>\n",
       "      <td>3433</td>\n",
       "      <td>12.0</td>\n",
       "      <td>70</td>\n",
       "      <td>usa</td>\n",
       "      <td>amc rebel sst</td>\n",
       "    </tr>\n",
       "    <tr>\n",
       "      <th>4</th>\n",
       "      <td>17.0</td>\n",
       "      <td>8</td>\n",
       "      <td>302.0</td>\n",
       "      <td>140.0</td>\n",
       "      <td>3449</td>\n",
       "      <td>10.5</td>\n",
       "      <td>70</td>\n",
       "      <td>usa</td>\n",
       "      <td>ford torino</td>\n",
       "    </tr>\n",
       "  </tbody>\n",
       "</table>\n",
       "</div>"
      ],
      "text/plain": [
       "    mpg  cylinders  displacement  horsepower  weight  acceleration   \n",
       "0  18.0          8         307.0       130.0    3504          12.0  \\\n",
       "1  15.0          8         350.0       165.0    3693          11.5   \n",
       "2  18.0          8         318.0       150.0    3436          11.0   \n",
       "3  16.0          8         304.0       150.0    3433          12.0   \n",
       "4  17.0          8         302.0       140.0    3449          10.5   \n",
       "\n",
       "   model_year origin                       name  \n",
       "0          70    usa  chevrolet chevelle malibu  \n",
       "1          70    usa          buick skylark 320  \n",
       "2          70    usa         plymouth satellite  \n",
       "3          70    usa              amc rebel sst  \n",
       "4          70    usa                ford torino  "
      ]
     },
     "execution_count": 14,
     "metadata": {},
     "output_type": "execute_result"
    }
   ],
   "source": [
    "df.head()"
   ]
  },
  {
   "cell_type": "code",
   "execution_count": 15,
   "id": "5f0518eb",
   "metadata": {},
   "outputs": [
    {
     "data": {
      "text/plain": [
       "37.6"
      ]
     },
     "execution_count": 15,
     "metadata": {},
     "output_type": "execute_result"
    }
   ],
   "source": [
    "df['mpg'].max()-df['mpg'].min()"
   ]
  },
  {
   "cell_type": "code",
   "execution_count": 16,
   "id": "8d3d0061",
   "metadata": {
    "scrolled": true
   },
   "outputs": [
    {
     "data": {
      "text/plain": [
       "3527"
      ]
     },
     "execution_count": 16,
     "metadata": {},
     "output_type": "execute_result"
    }
   ],
   "source": [
    "df['weight'].max()-df['weight'].min()"
   ]
  },
  {
   "cell_type": "code",
   "execution_count": 17,
   "id": "f230bb3b",
   "metadata": {
    "scrolled": true
   },
   "outputs": [
    {
     "data": {
      "text/plain": [
       "61.08961077427439"
      ]
     },
     "execution_count": 17,
     "metadata": {},
     "output_type": "execute_result"
    }
   ],
   "source": [
    "statistics.variance(df['mpg'])"
   ]
  },
  {
   "cell_type": "code",
   "execution_count": 18,
   "id": "fc38e89a",
   "metadata": {},
   "outputs": [
    {
     "data": {
      "text/plain": [
       "23.514572864321607"
      ]
     },
     "execution_count": 18,
     "metadata": {},
     "output_type": "execute_result"
    }
   ],
   "source": [
    "statistics.mean(df['mpg'])"
   ]
  },
  {
   "cell_type": "code",
   "execution_count": 19,
   "id": "37d75516",
   "metadata": {},
   "outputs": [
    {
     "data": {
      "text/plain": [
       "7.806159061274432"
      ]
     },
     "execution_count": 19,
     "metadata": {},
     "output_type": "execute_result"
    }
   ],
   "source": [
    "statistics.pstdev(df['mpg'])"
   ]
  },
  {
   "cell_type": "code",
   "execution_count": 20,
   "id": "bc711a73",
   "metadata": {},
   "outputs": [
    {
     "data": {
      "text/plain": [
       "2970.424623115578"
      ]
     },
     "execution_count": 20,
     "metadata": {},
     "output_type": "execute_result"
    }
   ],
   "source": [
    "statistics.mean(df['weight'])"
   ]
  },
  {
   "cell_type": "code",
   "execution_count": 21,
   "id": "78a69af8",
   "metadata": {},
   "outputs": [
    {
     "data": {
      "text/plain": [
       "845.7772335198174"
      ]
     },
     "execution_count": 21,
     "metadata": {},
     "output_type": "execute_result"
    }
   ],
   "source": [
    "statistics.pstdev(df['weight'])"
   ]
  },
  {
   "cell_type": "markdown",
   "id": "67ee9ae3",
   "metadata": {},
   "source": [
    "### Quartiles"
   ]
  },
  {
   "cell_type": "code",
   "execution_count": 23,
   "id": "48034f90",
   "metadata": {},
   "outputs": [],
   "source": [
    "age=[20,25,40,50,55,60,62]"
   ]
  },
  {
   "cell_type": "code",
   "execution_count": 24,
   "id": "ed477d16",
   "metadata": {},
   "outputs": [
    {
     "data": {
      "text/plain": [
       "50"
      ]
     },
     "execution_count": 24,
     "metadata": {},
     "output_type": "execute_result"
    }
   ],
   "source": [
    "statistics.median(age)"
   ]
  },
  {
   "cell_type": "markdown",
   "id": "c305947c",
   "metadata": {},
   "source": [
    "Q2=50\n",
    "Q1=32.5\n",
    "Q2=115/2=57.5"
   ]
  },
  {
   "cell_type": "code",
   "execution_count": null,
   "id": "0486c91f",
   "metadata": {},
   "outputs": [],
   "source": [
    " "
   ]
  }
 ],
 "metadata": {
  "kernelspec": {
   "display_name": "Python 3 (ipykernel)",
   "language": "python",
   "name": "python3"
  },
  "language_info": {
   "codemirror_mode": {
    "name": "ipython",
    "version": 3
   },
   "file_extension": ".py",
   "mimetype": "text/x-python",
   "name": "python",
   "nbconvert_exporter": "python",
   "pygments_lexer": "ipython3",
   "version": "3.9.13"
  }
 },
 "nbformat": 4,
 "nbformat_minor": 5
}
